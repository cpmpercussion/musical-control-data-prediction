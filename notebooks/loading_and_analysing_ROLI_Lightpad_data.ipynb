{
 "cells": [
  {
   "cell_type": "code",
   "execution_count": null,
   "metadata": {},
   "outputs": [],
   "source": [
    "import pandas as pd\n",
    "import numpy as np\n",
    "import matplotlib.pyplot as plt\n",
    "%matplotlib notebook"
   ]
  },
  {
   "cell_type": "code",
   "execution_count": null,
   "metadata": {
    "scrolled": true
   },
   "outputs": [],
   "source": [
    "# Load, process, and save a Roli Block performance.\n",
    "data = pd.read_csv(\"../datasets/2018-06-21-block-perf1.txt\")\n",
    "data['dt'] = data.time.diff().fillna(0)\n",
    "\n",
    "display(data.columns)\n",
    "\n",
    "data['x'] = data.message.apply((lambda x: int(x.split(' ')[2])))\n",
    "data['y'] = data.message.apply((lambda x: int(x.split(' ')[3])))\n",
    "data['z'] = data.message.apply((lambda x: int(x.split(' ')[4])))\n",
    "\n",
    "cleaned_data = data[['dt', 'x', 'y', 'z']]\n",
    "display(cleaned_data.describe())\n",
    "\n",
    "array_version = np.array(data[['x','y','z']])\n",
    "display(array_version.shape)\n",
    "\n",
    "# Test saving\n",
    "np.savez('roli-block-session-data.npz', array_version)"
   ]
  },
  {
   "cell_type": "code",
   "execution_count": null,
   "metadata": {},
   "outputs": [],
   "source": [
    "# Test loading\n",
    "with np.load('roli-block-session-data.npz') as data:\n",
    "    dataset = data['arr_0']\n",
    "dataset.shape"
   ]
  },
  {
   "cell_type": "code",
   "execution_count": null,
   "metadata": {},
   "outputs": [],
   "source": [
    "# Look at Gesture-RNN version:\n",
    "# URL: https://github.com/lamtharnhantrakul/GestureRNN-ML4Lightpad/blob/master/data/test_data.txt\n",
    "# Download (if needed)\n",
    "import urllib.request\n",
    "url = 'https://github.com/lamtharnhantrakul/GestureRNN-ML4Lightpad/raw/master/data/test_data.txt'\n",
    "urllib.request.urlretrieve(url, './gesture-rnn-data.txt')\n",
    "# Parse the file\n",
    "grnn_df = pd.read_csv('./gesture-rnn-data.txt', delim_whitespace=True, header=None, lineterminator=';')\n",
    "grnn_df = grnn_df[[1,2,3]]\n",
    "grnn_df.columns = ['x','y','z']\n",
    "# Prove it works\n",
    "display(grnn_df.head())\n",
    "# Do some analysis\n",
    "display(grnn_df.describe())\n",
    "\n",
    "grnn_array = np.array(grnn_df)\n",
    "display(grnn_array.shape)\n",
    "np.savez('grnn-data.npz', grnn_array)\n"
   ]
  },
  {
   "cell_type": "code",
   "execution_count": null,
   "metadata": {},
   "outputs": [],
   "source": [
    "# Test loading\n",
    "with np.load('grnn-data.npz') as data:\n",
    "    dataset = data['arr_0']\n",
    "dataset.shape"
   ]
  },
  {
   "cell_type": "code",
   "execution_count": null,
   "metadata": {},
   "outputs": [],
   "source": [
    "import keras\n",
    "\n",
    "# Training Hyperparameters:\n",
    "SEQ_LEN = 30\n",
    "BATCH_SIZE = 256\n",
    "HIDDEN_UNITS = 64\n",
    "EPOCHS = 30\n",
    "VAL_SPLIT=0.2\n",
    "\n",
    "# These settings train for 2.1 epochs which is pretty good!\n",
    "SEED = 2345  # 2345 seems to be good.\n",
    "np.random.seed(SEED)\n",
    "# tf.set_random_seed(5791)  # only works for current graph.\n",
    "\n",
    "encoder = keras.Sequential()\n",
    "encoder.add(keras.layers.LSTM(HIDDEN_UNITS, batch_input_shape=(None,SEQ_LEN,3), return_sequences=True))\n",
    "encoder.add(keras.layers.LSTM(HIDDEN_UNITS))\n",
    "encoder.add(keras.layers.Dense(3, activation='relu'))\n",
    "encoder.compile(loss='mse', optimizer=keras.optimizers.Adam())\n",
    "encoder.summary()"
   ]
  },
  {
   "cell_type": "code",
   "execution_count": null,
   "metadata": {},
   "outputs": [],
   "source": []
  },
  {
   "cell_type": "code",
   "execution_count": null,
   "metadata": {},
   "outputs": [],
   "source": [
    "def slice_sequence_examples(sequence, num_steps):\n",
    "    xs = []\n",
    "    for i in range(len(sequence) - num_steps - 1):\n",
    "        example = sequence[i: i + num_steps]\n",
    "        xs.append(example)\n",
    "    print(\"Total training examples:\", str(len(xs)))\n",
    "    return xs\n",
    "\n",
    "def seq_to_singleton_format(examples):\n",
    "    \"\"\"\n",
    "    Return the examples in seq to singleton format.\n",
    "    \"\"\"\n",
    "    xs = []\n",
    "    ys = []\n",
    "    for ex in examples:\n",
    "        xs.append(ex[:-1])\n",
    "        ys.append(ex[-1])\n",
    "    return (xs,ys)\n",
    "\n",
    "\n",
    "X, y = seq_to_singleton_format(slice_sequence_examples(grnn_array, SEQ_LEN+1))\n",
    "X = np.array(X)\n",
    "y = np.array(y)\n",
    "\n",
    "print(\"X:\", X.shape)\n",
    "print(\"y:\", y.shape)"
   ]
  },
  {
   "cell_type": "code",
   "execution_count": null,
   "metadata": {},
   "outputs": [],
   "source": [
    "history = encoder.fit(X, y, batch_size=BATCH_SIZE, epochs=EPOCHS, validation_split=VAL_SPLIT)"
   ]
  },
  {
   "cell_type": "code",
   "execution_count": null,
   "metadata": {},
   "outputs": [],
   "source": [
    "X, y = seq_to_singleton_format(slice_sequence_examples(array_version, SEQ_LEN+1))\n",
    "X = np.array(X)\n",
    "y = np.array(y)"
   ]
  },
  {
   "cell_type": "code",
   "execution_count": null,
   "metadata": {},
   "outputs": [],
   "source": [
    "array_version = array_version"
   ]
  },
  {
   "cell_type": "code",
   "execution_count": null,
   "metadata": {},
   "outputs": [],
   "source": [
    "array_version = array_version / 128\n",
    "array_version"
   ]
  },
  {
   "cell_type": "markdown",
   "metadata": {},
   "source": [
    "# Comments!\n",
    "\n",
    "Interesting, it looks as if the GRNN data is very easy to train, loss below 0.01 in 30 epochs (30 seconds) of training.\n",
    "\n",
    "What kind of analysis can be done to investigate this?"
   ]
  }
 ],
 "metadata": {
  "kernelspec": {
   "display_name": "Python 3",
   "language": "python",
   "name": "python3"
  },
  "language_info": {
   "codemirror_mode": {
    "name": "ipython",
    "version": 3
   },
   "file_extension": ".py",
   "mimetype": "text/x-python",
   "name": "python",
   "nbconvert_exporter": "python",
   "pygments_lexer": "ipython3",
   "version": "3.6.5"
  }
 },
 "nbformat": 4,
 "nbformat_minor": 2
}
