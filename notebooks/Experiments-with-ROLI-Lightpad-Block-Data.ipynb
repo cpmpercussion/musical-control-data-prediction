{
 "cells": [
  {
   "cell_type": "code",
   "execution_count": 19,
   "metadata": {},
   "outputs": [],
   "source": [
    "import pandas as pd\n",
    "import numpy as np\n",
    "import matplotlib.pyplot as plt\n",
    "%matplotlib notebook"
   ]
  },
  {
   "cell_type": "code",
   "execution_count": 20,
   "metadata": {},
   "outputs": [],
   "source": [
    "data = pd.read_csv(\"../datasets/2018-06-21-block-perf1.txt\")\n",
    "data['dt'] = data.time.diff().fillna(0)"
   ]
  },
  {
   "cell_type": "code",
   "execution_count": 3,
   "metadata": {},
   "outputs": [
    {
     "data": {
      "text/plain": [
       "Index(['time', 'ip', 'message', 'dt'], dtype='object')"
      ]
     },
     "execution_count": 3,
     "metadata": {},
     "output_type": "execute_result"
    }
   ],
   "source": [
    "data.columns"
   ]
  },
  {
   "cell_type": "code",
   "execution_count": 4,
   "metadata": {},
   "outputs": [],
   "source": [
    "data['x'] = data.message.apply((lambda x: int(x.split(' ')[2])))\n",
    "data['y'] = data.message.apply((lambda x: int(x.split(' ')[3])))\n",
    "data['z'] = data.message.apply((lambda x: int(x.split(' ')[4])))"
   ]
  },
  {
   "cell_type": "code",
   "execution_count": 5,
   "metadata": {},
   "outputs": [
    {
     "data": {
      "text/html": [
       "<div>\n",
       "<table border=\"1\" class=\"dataframe\">\n",
       "  <thead>\n",
       "    <tr style=\"text-align: right;\">\n",
       "      <th></th>\n",
       "      <th>dt</th>\n",
       "      <th>x</th>\n",
       "      <th>y</th>\n",
       "      <th>z</th>\n",
       "    </tr>\n",
       "  </thead>\n",
       "  <tbody>\n",
       "    <tr>\n",
       "      <th>count</th>\n",
       "      <td>10730.000000</td>\n",
       "      <td>10730.000000</td>\n",
       "      <td>10730.000000</td>\n",
       "      <td>10730.000000</td>\n",
       "    </tr>\n",
       "    <tr>\n",
       "      <th>mean</th>\n",
       "      <td>0.029337</td>\n",
       "      <td>64.899068</td>\n",
       "      <td>62.779683</td>\n",
       "      <td>55.443989</td>\n",
       "    </tr>\n",
       "    <tr>\n",
       "      <th>std</th>\n",
       "      <td>0.085480</td>\n",
       "      <td>32.687723</td>\n",
       "      <td>31.414097</td>\n",
       "      <td>30.857785</td>\n",
       "    </tr>\n",
       "    <tr>\n",
       "      <th>min</th>\n",
       "      <td>0.000000</td>\n",
       "      <td>0.000000</td>\n",
       "      <td>0.000000</td>\n",
       "      <td>0.000000</td>\n",
       "    </tr>\n",
       "    <tr>\n",
       "      <th>25%</th>\n",
       "      <td>0.027402</td>\n",
       "      <td>35.000000</td>\n",
       "      <td>37.250000</td>\n",
       "      <td>35.000000</td>\n",
       "    </tr>\n",
       "    <tr>\n",
       "      <th>50%</th>\n",
       "      <td>0.028018</td>\n",
       "      <td>65.000000</td>\n",
       "      <td>59.000000</td>\n",
       "      <td>49.000000</td>\n",
       "    </tr>\n",
       "    <tr>\n",
       "      <th>75%</th>\n",
       "      <td>0.028571</td>\n",
       "      <td>93.000000</td>\n",
       "      <td>89.000000</td>\n",
       "      <td>68.000000</td>\n",
       "    </tr>\n",
       "    <tr>\n",
       "      <th>max</th>\n",
       "      <td>8.811069</td>\n",
       "      <td>127.000000</td>\n",
       "      <td>127.000000</td>\n",
       "      <td>127.000000</td>\n",
       "    </tr>\n",
       "  </tbody>\n",
       "</table>\n",
       "</div>"
      ],
      "text/plain": [
       "                 dt             x             y             z\n",
       "count  10730.000000  10730.000000  10730.000000  10730.000000\n",
       "mean       0.029337     64.899068     62.779683     55.443989\n",
       "std        0.085480     32.687723     31.414097     30.857785\n",
       "min        0.000000      0.000000      0.000000      0.000000\n",
       "25%        0.027402     35.000000     37.250000     35.000000\n",
       "50%        0.028018     65.000000     59.000000     49.000000\n",
       "75%        0.028571     93.000000     89.000000     68.000000\n",
       "max        8.811069    127.000000    127.000000    127.000000"
      ]
     },
     "execution_count": 5,
     "metadata": {},
     "output_type": "execute_result"
    }
   ],
   "source": [
    "cleaned_data = data[['dt', 'x', 'y', 'z']]\n",
    "cleaned_data.describe()"
   ]
  },
  {
   "cell_type": "code",
   "execution_count": 6,
   "metadata": {},
   "outputs": [
    {
     "data": {
      "text/plain": [
       "(10730, 3)"
      ]
     },
     "execution_count": 6,
     "metadata": {},
     "output_type": "execute_result"
    }
   ],
   "source": [
    "array_version = np.array(data[['x','y','z']])\n",
    "array_version.shape"
   ]
  },
  {
   "cell_type": "code",
   "execution_count": 7,
   "metadata": {},
   "outputs": [],
   "source": [
    "# Test saving\n",
    "np.savez('roli-block-session-data.npz', array_version)"
   ]
  },
  {
   "cell_type": "code",
   "execution_count": 18,
   "metadata": {},
   "outputs": [
    {
     "data": {
      "text/plain": [
       "(10730, 3)"
      ]
     },
     "execution_count": 18,
     "metadata": {},
     "output_type": "execute_result"
    }
   ],
   "source": [
    "# Test loading\n",
    "with np.load('roli-block-session-data.npz') as data:\n",
    "    dataset = data['arr_0']\n",
    "dataset.shape"
   ]
  },
  {
   "cell_type": "code",
   "execution_count": 9,
   "metadata": {},
   "outputs": [
    {
     "name": "stdout",
     "output_type": "stream",
     "text": [
      "          x         y    z\n",
      "0  0.461538  0.615385  0.0\n",
      "1  0.461538  0.615385  0.0\n",
      "2  0.461538  0.615385  0.0\n",
      "3  0.461538  0.615385  0.0\n",
      "4  0.461538  0.615385  0.0\n",
      "                 x            y            z\n",
      "count  3805.000000  3805.000000  3805.000000\n",
      "mean      0.520070     0.480631     0.218433\n",
      "std       0.297183     0.281762     0.279394\n",
      "min       0.000000     0.000000     0.000000\n",
      "25%       0.234676     0.230769     0.000000\n",
      "50%       0.538462     0.495482     0.113725\n",
      "75%       0.769231     0.692308     0.305882\n",
      "max       0.999950     0.999950     1.000000\n",
      "(3806, 3)\n"
     ]
    }
   ],
   "source": [
    "# Look at Gesture-RNN version:\n",
    "# URL: https://github.com/lamtharnhantrakul/GestureRNN-ML4Lightpad/blob/master/data/test_data.txt\n",
    "# Download (if needed)\n",
    "import urllib.request\n",
    "url = 'https://github.com/lamtharnhantrakul/GestureRNN-ML4Lightpad/raw/master/data/test_data.txt'\n",
    "urllib.request.urlretrieve(url, './gesture-rnn-data.txt')\n",
    "# Parse the file\n",
    "grnn_df = pd.read_csv('./gesture-rnn-data.txt', delim_whitespace=True, header=None, lineterminator=';')\n",
    "grnn_df = grnn_df[[1,2,3]]\n",
    "grnn_df.columns = ['x','y','z']\n",
    "# Prove it works\n",
    "print(grnn_df.head())\n",
    "# Do some analysis\n",
    "print(grnn_df.describe())\n",
    "\n",
    "grnn_array = np.array(grnn_df)\n",
    "print(grnn_array.shape)\n",
    "np.savez('grnn-data.npz', grnn_array)\n",
    "#data['x'] = data.message.apply((lambda x: int(x.split(' ')[2])))\n",
    "#data['y'] = data.message.apply((lambda x: int(x.split(' ')[3])))\n",
    "#data['z'] = data.message.apply((lambda x: int(x.split(' ')[4])))"
   ]
  },
  {
   "cell_type": "code",
   "execution_count": 10,
   "metadata": {},
   "outputs": [
    {
     "data": {
      "text/plain": [
       "(3806, 3)"
      ]
     },
     "execution_count": 10,
     "metadata": {},
     "output_type": "execute_result"
    }
   ],
   "source": [
    "# Test loading\n",
    "with np.load('grnn-data.npz') as data:\n",
    "    dataset = data['arr_0']\n",
    "dataset.shape"
   ]
  },
  {
   "cell_type": "code",
   "execution_count": 11,
   "metadata": {},
   "outputs": [
    {
     "name": "stderr",
     "output_type": "stream",
     "text": [
      "Using TensorFlow backend.\n"
     ]
    },
    {
     "name": "stdout",
     "output_type": "stream",
     "text": [
      "_________________________________________________________________\n",
      "Layer (type)                 Output Shape              Param #   \n",
      "=================================================================\n",
      "lstm_1 (LSTM)                (None, 30, 64)            17408     \n",
      "_________________________________________________________________\n",
      "lstm_2 (LSTM)                (None, 64)                33024     \n",
      "_________________________________________________________________\n",
      "dense_1 (Dense)              (None, 3)                 195       \n",
      "=================================================================\n",
      "Total params: 50,627\n",
      "Trainable params: 50,627\n",
      "Non-trainable params: 0\n",
      "_________________________________________________________________\n"
     ]
    }
   ],
   "source": [
    "import keras\n",
    "\n",
    "# Training Hyperparameters:\n",
    "SEQ_LEN = 30\n",
    "BATCH_SIZE = 256\n",
    "HIDDEN_UNITS = 64\n",
    "EPOCHS = 30\n",
    "VAL_SPLIT=0.2\n",
    "\n",
    "# These settings train for 2.1 epochs which is pretty good!\n",
    "SEED = 2345  # 2345 seems to be good.\n",
    "np.random.seed(SEED)\n",
    "# tf.set_random_seed(5791)  # only works for current graph.\n",
    "\n",
    "encoder = keras.Sequential()\n",
    "encoder.add(keras.layers.LSTM(HIDDEN_UNITS, batch_input_shape=(None,SEQ_LEN,3), return_sequences=True))\n",
    "encoder.add(keras.layers.LSTM(HIDDEN_UNITS))\n",
    "encoder.add(keras.layers.Dense(3, activation='relu'))\n",
    "encoder.compile(loss='mse', optimizer=keras.optimizers.Adam())\n",
    "encoder.summary()"
   ]
  },
  {
   "cell_type": "code",
   "execution_count": 17,
   "metadata": {},
   "outputs": [
    {
     "data": {
      "text/plain": [
       "(3806, 3)"
      ]
     },
     "execution_count": 17,
     "metadata": {},
     "output_type": "execute_result"
    }
   ],
   "source": []
  },
  {
   "cell_type": "code",
   "execution_count": 12,
   "metadata": {},
   "outputs": [
    {
     "name": "stdout",
     "output_type": "stream",
     "text": [
      "Total training examples: 3774\n",
      "X: (3774, 30, 3)\n",
      "y: (3774, 3)\n"
     ]
    }
   ],
   "source": [
    "def slice_sequence_examples(sequence, num_steps):\n",
    "    xs = []\n",
    "    for i in range(len(sequence) - num_steps - 1):\n",
    "        example = sequence[i: i + num_steps]\n",
    "        xs.append(example)\n",
    "    print(\"Total training examples:\", str(len(xs)))\n",
    "    return xs\n",
    "\n",
    "def seq_to_singleton_format(examples):\n",
    "    \"\"\"\n",
    "    Return the examples in seq to singleton format.\n",
    "    \"\"\"\n",
    "    xs = []\n",
    "    ys = []\n",
    "    for ex in examples:\n",
    "        xs.append(ex[:-1])\n",
    "        ys.append(ex[-1])\n",
    "    return (xs,ys)\n",
    "\n",
    "\n",
    "X, y = seq_to_singleton_format(slice_sequence_examples(grnn_array, SEQ_LEN+1))\n",
    "X = np.array(X)\n",
    "y = np.array(y)\n",
    "\n",
    "print(\"X:\", X.shape)\n",
    "print(\"y:\", y.shape)"
   ]
  },
  {
   "cell_type": "code",
   "execution_count": 13,
   "metadata": {},
   "outputs": [
    {
     "name": "stdout",
     "output_type": "stream",
     "text": [
      "Train on 3019 samples, validate on 755 samples\n",
      "Epoch 1/30\n",
      "3019/3019 [==============================] - 2s 620us/step - loss: 0.1312 - val_loss: 0.0391\n",
      "Epoch 2/30\n",
      "3019/3019 [==============================] - 1s 227us/step - loss: 0.0470 - val_loss: 0.0219\n",
      "Epoch 3/30\n",
      "3019/3019 [==============================] - 1s 229us/step - loss: 0.0342 - val_loss: 0.0184\n",
      "Epoch 4/30\n",
      "3019/3019 [==============================] - 1s 227us/step - loss: 0.0282 - val_loss: 0.0156\n",
      "Epoch 5/30\n",
      "3019/3019 [==============================] - 1s 226us/step - loss: 0.0246 - val_loss: 0.0138\n",
      "Epoch 6/30\n",
      "3019/3019 [==============================] - 1s 227us/step - loss: 0.0215 - val_loss: 0.0127\n",
      "Epoch 7/30\n",
      "3019/3019 [==============================] - 1s 229us/step - loss: 0.0192 - val_loss: 0.0116\n",
      "Epoch 8/30\n",
      "3019/3019 [==============================] - 1s 231us/step - loss: 0.0176 - val_loss: 0.0106\n",
      "Epoch 9/30\n",
      "3019/3019 [==============================] - 1s 235us/step - loss: 0.0161 - val_loss: 0.0090\n",
      "Epoch 10/30\n",
      "3019/3019 [==============================] - 1s 230us/step - loss: 0.0148 - val_loss: 0.0086\n",
      "Epoch 11/30\n",
      "3019/3019 [==============================] - 1s 230us/step - loss: 0.0138 - val_loss: 0.0079\n",
      "Epoch 12/30\n",
      "3019/3019 [==============================] - 1s 231us/step - loss: 0.0129 - val_loss: 0.0075\n",
      "Epoch 13/30\n",
      "3019/3019 [==============================] - 1s 232us/step - loss: 0.0121 - val_loss: 0.0071\n",
      "Epoch 14/30\n",
      "3019/3019 [==============================] - 1s 231us/step - loss: 0.0114 - val_loss: 0.0064\n",
      "Epoch 15/30\n",
      "3019/3019 [==============================] - 1s 231us/step - loss: 0.0109 - val_loss: 0.0062\n",
      "Epoch 16/30\n",
      "3019/3019 [==============================] - 1s 234us/step - loss: 0.0105 - val_loss: 0.0061\n",
      "Epoch 17/30\n",
      "3019/3019 [==============================] - 1s 234us/step - loss: 0.0100 - val_loss: 0.0057\n",
      "Epoch 18/30\n",
      "3019/3019 [==============================] - 1s 229us/step - loss: 0.0095 - val_loss: 0.0056\n",
      "Epoch 19/30\n",
      "3019/3019 [==============================] - 1s 235us/step - loss: 0.0092 - val_loss: 0.0053\n",
      "Epoch 20/30\n",
      "3019/3019 [==============================] - 1s 236us/step - loss: 0.0088 - val_loss: 0.0054\n",
      "Epoch 21/30\n",
      "3019/3019 [==============================] - 1s 237us/step - loss: 0.0086 - val_loss: 0.0051\n",
      "Epoch 22/30\n",
      "3019/3019 [==============================] - 1s 240us/step - loss: 0.0084 - val_loss: 0.0048\n",
      "Epoch 23/30\n",
      "3019/3019 [==============================] - 1s 250us/step - loss: 0.0083 - val_loss: 0.0049\n",
      "Epoch 24/30\n",
      "3019/3019 [==============================] - 1s 245us/step - loss: 0.0079 - val_loss: 0.0046\n",
      "Epoch 25/30\n",
      "3019/3019 [==============================] - 1s 236us/step - loss: 0.0078 - val_loss: 0.0046\n",
      "Epoch 26/30\n",
      "3019/3019 [==============================] - 1s 236us/step - loss: 0.0079 - val_loss: 0.0049\n",
      "Epoch 27/30\n",
      "3019/3019 [==============================] - 1s 241us/step - loss: 0.0078 - val_loss: 0.0045\n",
      "Epoch 28/30\n",
      "3019/3019 [==============================] - 1s 248us/step - loss: 0.0075 - val_loss: 0.0043\n",
      "Epoch 29/30\n",
      "3019/3019 [==============================] - 1s 248us/step - loss: 0.0073 - val_loss: 0.0045\n",
      "Epoch 30/30\n",
      "3019/3019 [==============================] - 1s 249us/step - loss: 0.0070 - val_loss: 0.0042\n"
     ]
    }
   ],
   "source": [
    "history = encoder.fit(X, y, batch_size=BATCH_SIZE, epochs=EPOCHS, validation_split=VAL_SPLIT)"
   ]
  },
  {
   "cell_type": "code",
   "execution_count": 127,
   "metadata": {},
   "outputs": [
    {
     "name": "stdout",
     "output_type": "stream",
     "text": [
      "Total training examples: 10698\n"
     ]
    }
   ],
   "source": [
    "X, y = seq_to_singleton_format(slice_sequence_examples(array_version, SEQ_LEN+1))\n",
    "X = np.array(X)\n",
    "y = np.array(y)"
   ]
  },
  {
   "cell_type": "code",
   "execution_count": 14,
   "metadata": {},
   "outputs": [],
   "source": [
    "array_version = array_version"
   ]
  },
  {
   "cell_type": "code",
   "execution_count": 15,
   "metadata": {},
   "outputs": [
    {
     "data": {
      "text/plain": [
       "array([[ 0.2265625,  0.6875   ,  0.03125  ],\n",
       "       [ 0.2265625,  0.234375 ,  0.0078125],\n",
       "       [ 0.2265625,  0.265625 ,  0.0625   ],\n",
       "       ..., \n",
       "       [ 0.015625 ,  0.09375  ,  0.375    ],\n",
       "       [ 0.015625 ,  0.09375  ,  0.3515625],\n",
       "       [ 0.       ,  0.09375  ,  0.2734375]])"
      ]
     },
     "execution_count": 15,
     "metadata": {},
     "output_type": "execute_result"
    }
   ],
   "source": [
    "array_version = array_version / 128\n",
    "array_version"
   ]
  },
  {
   "cell_type": "markdown",
   "metadata": {},
   "source": [
    "# Comments!\n",
    "\n",
    "Interesting, it looks as if the GRNN data is very easy to train, loss below 0.01 in 30 epochs (30 seconds) of training.\n",
    "\n",
    "What kind of analysis can be done to investigate this?"
   ]
  }
 ],
 "metadata": {
  "kernelspec": {
   "display_name": "Python 3",
   "language": "python",
   "name": "python3"
  },
  "language_info": {
   "codemirror_mode": {
    "name": "ipython",
    "version": 3
   },
   "file_extension": ".py",
   "mimetype": "text/x-python",
   "name": "python",
   "nbconvert_exporter": "python",
   "pygments_lexer": "ipython3",
   "version": "3.6.5"
  }
 },
 "nbformat": 4,
 "nbformat_minor": 2
}
